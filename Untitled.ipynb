{
 "cells": [
  {
   "cell_type": "code",
   "execution_count": 1,
   "id": "75cbf497",
   "metadata": {},
   "outputs": [],
   "source": [
    "import numpy as np\n",
    "import cv2\n",
    "import glob\n"
   ]
  },
  {
   "cell_type": "code",
   "execution_count": 17,
   "id": "f97a53a9",
   "metadata": {},
   "outputs": [],
   "source": [
    "images_train = sorted(glob.glob('train/images/*.jpeg'))\n",
    "masks_train = sorted(glob.glob('train/masks/*.jpeg'))"
   ]
  },
  {
   "cell_type": "code",
   "execution_count": 18,
   "id": "0da404b3",
   "metadata": {},
   "outputs": [],
   "source": [
    "images_test = sorted(glob.glob('test/images/*.jpeg'))\n",
    "masks_test = sorted(glob.glob('test/masks/*.jpeg'))"
   ]
  },
  {
   "cell_type": "code",
   "execution_count": 19,
   "id": "1a8c6db9",
   "metadata": {},
   "outputs": [],
   "source": [
    "contador = 1\n",
    "lista = []\n",
    "for i in range(len(images_train)):\n",
    "    imagen = cv2.imread(images_train[i])\n",
    "    imagen = cv2.resize(imagen, (400,250))\n",
    "    f,c = imagen.shape[0:2]\n",
    "    mascara = cv2.imread(masks_train[0], 0)\n",
    "    mascara = cv2.resize(mascara, (400,250), cv2.INTER_NEAREST)\n",
    "    mascara[mascara>0] = 1\n",
    "    imagen_amp = cv2.copyMakeBorder(imagen, 75, 75, 75, 75, cv2.BORDER_CONSTANT)\n",
    "    cont_0 = 0\n",
    "    cont_1 = 0\n",
    "    while cont_0<10 or cont_1<10:\n",
    "        fila = np.random.randint(0, f, 1)[0]\n",
    "        columna = np.random.randint(0, c, 1)[0]\n",
    "        if mascara[fila, columna] == 0 and cont_0<10:\n",
    "            lista.append(0)\n",
    "            cont_0 +=1\n",
    "            parche = imagen_amp[fila:fila+150, columna:columna+150,:]\n",
    "            cv2.imwrite(str(contador)+'.jpeg', parche)\n",
    "            contador += 1\n",
    "        elif mascara[fila, columna] == 1 and cont_1<10:\n",
    "            lista.append(1)\n",
    "            cont_1+=1\n",
    "            parche = imagen_amp[fila:fila+150, columna:columna+150,:]\n",
    "            cv2.imwrite(str(contador)+'.jpeg', parche)\n",
    "            contador += 1\n",
    "        \n",
    "            \n",
    "\n"
   ]
  },
  {
   "cell_type": "code",
   "execution_count": 20,
   "id": "0f98a8fd",
   "metadata": {},
   "outputs": [],
   "source": [
    "np.savetxt('labels_train.csv', lista)"
   ]
  },
  {
   "cell_type": "code",
   "execution_count": 21,
   "id": "6665db3d",
   "metadata": {},
   "outputs": [
    {
     "ename": "KeyboardInterrupt",
     "evalue": "",
     "output_type": "error",
     "traceback": [
      "\u001b[1;31m---------------------------------------------------------------------------\u001b[0m",
      "\u001b[1;31mKeyboardInterrupt\u001b[0m                         Traceback (most recent call last)",
      "\u001b[1;32mC:\\Users\\DANIEL~1.DYC\\AppData\\Local\\Temp/ipykernel_13808/854790985.py\u001b[0m in \u001b[0;36m<module>\u001b[1;34m\u001b[0m\n\u001b[0;32m     11\u001b[0m     \u001b[1;32mfor\u001b[0m \u001b[0mj\u001b[0m \u001b[1;32min\u001b[0m \u001b[0mrange\u001b[0m\u001b[1;33m(\u001b[0m\u001b[0mc\u001b[0m\u001b[1;33m)\u001b[0m\u001b[1;33m:\u001b[0m\u001b[1;33m\u001b[0m\u001b[1;33m\u001b[0m\u001b[0m\n\u001b[0;32m     12\u001b[0m         \u001b[0mparche\u001b[0m \u001b[1;33m=\u001b[0m \u001b[0mimagen_amp\u001b[0m\u001b[1;33m[\u001b[0m\u001b[0mi\u001b[0m\u001b[1;33m:\u001b[0m\u001b[0mi\u001b[0m\u001b[1;33m+\u001b[0m\u001b[1;36m150\u001b[0m\u001b[1;33m,\u001b[0m \u001b[0mj\u001b[0m\u001b[1;33m:\u001b[0m\u001b[0mj\u001b[0m\u001b[1;33m+\u001b[0m\u001b[1;36m150\u001b[0m\u001b[1;33m,\u001b[0m\u001b[1;33m:\u001b[0m\u001b[1;33m]\u001b[0m\u001b[1;33m\u001b[0m\u001b[1;33m\u001b[0m\u001b[0m\n\u001b[1;32m---> 13\u001b[1;33m         \u001b[0mcv2\u001b[0m\u001b[1;33m.\u001b[0m\u001b[0mimwrite\u001b[0m\u001b[1;33m(\u001b[0m\u001b[0mstr\u001b[0m\u001b[1;33m(\u001b[0m\u001b[0mcontador\u001b[0m\u001b[1;33m)\u001b[0m\u001b[1;33m+\u001b[0m\u001b[1;34m'.jpeg'\u001b[0m\u001b[1;33m,\u001b[0m \u001b[0mparche\u001b[0m\u001b[1;33m)\u001b[0m\u001b[1;33m\u001b[0m\u001b[1;33m\u001b[0m\u001b[0m\n\u001b[0m\u001b[0;32m     14\u001b[0m         \u001b[0mcontador\u001b[0m\u001b[1;33m+=\u001b[0m\u001b[1;36m1\u001b[0m\u001b[1;33m\u001b[0m\u001b[1;33m\u001b[0m\u001b[0m\n\u001b[0;32m     15\u001b[0m         \u001b[0mlista\u001b[0m\u001b[1;33m.\u001b[0m\u001b[0mappend\u001b[0m\u001b[1;33m(\u001b[0m\u001b[0mmascara\u001b[0m\u001b[1;33m[\u001b[0m\u001b[0mi\u001b[0m\u001b[1;33m,\u001b[0m\u001b[0mj\u001b[0m\u001b[1;33m]\u001b[0m\u001b[1;33m)\u001b[0m\u001b[1;33m\u001b[0m\u001b[1;33m\u001b[0m\u001b[0m\n",
      "\u001b[1;31mKeyboardInterrupt\u001b[0m: "
     ]
    }
   ],
   "source": [
    "imagen = cv2.imread(images_test[0])\n",
    "imagen = cv2.resize(imagen, (400,250))\n",
    "f, c = imagen.shape[0:2]\n",
    "imagen_amp = cv2.copyMakeBorder(imagen, 75,75,75,75,cv2.BORDER_CONSTANT)\n",
    "mascara = cv2.imread(masks_test[0], 0)\n",
    "mascara = cv2.resize(mascara, (400,250), cv2.INTER_NEAREST)\n",
    "mascara[mascara>0] = 1\n",
    "lista = []\n",
    "contador = 1\n",
    "for i in range(f):\n",
    "    for j in range(c):\n",
    "        parche = imagen_amp[i:i+150, j:j+150,:]\n",
    "        cv2.imwrite(str(contador)+'.jpeg', parche)\n",
    "        contador+=1\n",
    "        lista.append(mascara[i,j])\n",
    "np.savetxt('labels_test.csv', lista)"
   ]
  },
  {
   "cell_type": "code",
   "execution_count": 11,
   "id": "3fd6f5cd",
   "metadata": {},
   "outputs": [
    {
     "data": {
      "text/plain": [
       "array([[[  0,   6,   0],\n",
       "        [  0,   6,   0],\n",
       "        [  0,   5,   0],\n",
       "        ...,\n",
       "        [  0,   3,   2],\n",
       "        [  0,   2,   1],\n",
       "        [  0,   3,   1]],\n",
       "\n",
       "       [[ 44,  64,  51],\n",
       "        [ 46,  66,  53],\n",
       "        [ 49,  69,  56],\n",
       "        ...,\n",
       "        [ 53,  82,  79],\n",
       "        [ 46,  77,  74],\n",
       "        [ 41,  72,  69]],\n",
       "\n",
       "       [[ 44,  69,  49],\n",
       "        [ 46,  71,  51],\n",
       "        [ 49,  74,  54],\n",
       "        ...,\n",
       "        [ 43,  84,  79],\n",
       "        [ 36,  80,  74],\n",
       "        [ 29,  75,  69]],\n",
       "\n",
       "       ...,\n",
       "\n",
       "       [[156, 156, 156],\n",
       "        [157, 157, 157],\n",
       "        [131, 131, 131],\n",
       "        ...,\n",
       "        [144, 146, 146],\n",
       "        [143, 145, 145],\n",
       "        [140, 142, 142]],\n",
       "\n",
       "       [[  0,   0,   0],\n",
       "        [  1,   1,   1],\n",
       "        [  0,   0,   0],\n",
       "        ...,\n",
       "        [  0,   1,   1],\n",
       "        [  0,   0,   0],\n",
       "        [  0,   0,   0]],\n",
       "\n",
       "       [[  0,   0,   0],\n",
       "        [  0,   0,   0],\n",
       "        [  0,   0,   0],\n",
       "        ...,\n",
       "        [  0,   0,   0],\n",
       "        [  0,   0,   0],\n",
       "        [  0,   0,   0]]], dtype=uint8)"
      ]
     },
     "execution_count": 11,
     "metadata": {},
     "output_type": "execute_result"
    }
   ],
   "source": [
    "imagen"
   ]
  },
  {
   "cell_type": "code",
   "execution_count": 5,
   "id": "00a80c5d",
   "metadata": {},
   "outputs": [
    {
     "ename": "TypeError",
     "evalue": "unsupported operand type(s) for +: 'int' and 'str'",
     "output_type": "error",
     "traceback": [
      "\u001b[1;31m---------------------------------------------------------------------------\u001b[0m",
      "\u001b[1;31mTypeError\u001b[0m                                 Traceback (most recent call last)",
      "\u001b[1;32mC:\\Users\\DANIEL~1.DYC\\AppData\\Local\\Temp/ipykernel_12700/3920775753.py\u001b[0m in \u001b[0;36m<module>\u001b[1;34m\u001b[0m\n\u001b[1;32m----> 1\u001b[1;33m \u001b[0mcontador\u001b[0m \u001b[1;33m+\u001b[0m \u001b[1;34m'.'\u001b[0m\u001b[1;33m\u001b[0m\u001b[1;33m\u001b[0m\u001b[0m\n\u001b[0m",
      "\u001b[1;31mTypeError\u001b[0m: unsupported operand type(s) for +: 'int' and 'str'"
     ]
    }
   ],
   "source": []
  },
  {
   "cell_type": "code",
   "execution_count": null,
   "id": "7c9b9d20",
   "metadata": {},
   "outputs": [],
   "source": []
  }
 ],
 "metadata": {
  "kernelspec": {
   "display_name": "Python [conda env:py38ml] *",
   "language": "python",
   "name": "conda-env-py38ml-py"
  },
  "language_info": {
   "codemirror_mode": {
    "name": "ipython",
    "version": 3
   },
   "file_extension": ".py",
   "mimetype": "text/x-python",
   "name": "python",
   "nbconvert_exporter": "python",
   "pygments_lexer": "ipython3",
   "version": "3.8.10"
  }
 },
 "nbformat": 4,
 "nbformat_minor": 5
}
